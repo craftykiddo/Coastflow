{
 "cells": [
  {
   "cell_type": "markdown",
   "id": "d2d05a7a",
   "metadata": {},
   "source": [
    "# VERSION 1"
   ]
  },
  {
   "cell_type": "code",
   "execution_count": 1,
   "id": "a43135d5",
   "metadata": {},
   "outputs": [],
   "source": [
    "#flashcard class\n",
    "class flashcard():\n",
    "    def __init__(self, qns, ans, n_correct=0, n_wrong=0, review_time=0):\n",
    "        self._qns = qns\n",
    "        self._ans = ans \n",
    "        self._n_correct = n_correct\n",
    "        self._n_wrong = n_wrong\n",
    "        self._review_time = review_time\n",
    "        \n",
    "    def get_qns(self):\n",
    "        return self._qns\n",
    "    def get_ans(self):\n",
    "        return self._ans\n",
    "    def get_n_correct(self):\n",
    "        return self._n_correct\n",
    "    def get_n_wrong(self):\n",
    "        return self._n_wrong\n",
    "    def get_review_time(self):\n",
    "        return self._review_time\n",
    "    \n",
    "    def set_qns(self,qns):\n",
    "        self._qns=qns\n",
    "    def set_ans(self,ans):\n",
    "        self._ans=ans\n",
    "    def set_n_correct(self,n_correct):\n",
    "        self._n_correct=n_correct\n",
    "    def set_n_wrong(self,n_wrong):\n",
    "        self._n_wrong=n_wrong\n",
    "    def set_review_time(self,review_time):\n",
    "        self._review_time=review_time\n",
    "\n",
    "        \n",
    "    def __str__(self):\n",
    "        ret= f\"{self._qns}, {self._ans}, {self._n_correct}, {self._n_wrong}, {self._review_time}\"\n",
    "        return ret\n",
    "    \n",
    "    def __lt__(self, other):\n",
    "        #Criteria for prioritizing flashcards based on the length of the question\n",
    "        return len(self._qns) < len(other._qns)\n",
    "    \n"
   ]
  },
  {
   "cell_type": "code",
   "execution_count": null,
   "id": "3758f4c6",
   "metadata": {},
   "outputs": [],
   "source": []
  },
  {
   "cell_type": "code",
   "execution_count": 2,
   "id": "72cf54ff",
   "metadata": {},
   "outputs": [
    {
     "name": "stdout",
     "output_type": "stream",
     "text": [
      "0.3560078585841099\n"
     ]
    }
   ],
   "source": [
    "\n",
    "####\n",
    "# This code contains the algorithm to obtain samples from optimal reviewing intensity.\n",
    "# This script read two csv files, preprocesed_weights.csv, observations_1k.csv and outputs revieiw times.\n",
    "# For user-item pairs that are not reviewed in the period, we show empty string.\n",
    "####\n",
    "\n",
    "import numpy as np\n",
    "\n",
    "Q = 1.0  # parameter Q defined in eq. 8 in the paper. where Q is a given parameter, which trades off recall probability and number of item reviews—the higher its value, the lower the number of reviews.\n",
    "T = 10.0  # number of days in the future to generate reviewing timeself.\n",
    "\n",
    "\n",
    "#this gets the intensity to be used in the sampler function\n",
    "def intensity(t, n_t, q):\n",
    "    return 1.0/np.sqrt(q)*(1-np.exp(-n_t*t))\n",
    "\n",
    "#apparently this function samples from an inhomogeneous Poisson process with intensity and it returns the sampled time\n",
    "def sampler(n_t, q, T):\n",
    "    t = 0\n",
    "    while(True):\n",
    "        max_int = 1.0/np.sqrt(q)\n",
    "        t_ = np.random.exponential(1 / max_int)\n",
    "\n",
    "        if t_ + t > T:\n",
    "            t=T-1\n",
    "        t = t+t_\n",
    "        proposed_int = intensity(t, n_t, q)\n",
    "        if np.random.uniform(0, 1, 1)[0] < proposed_int / max_int:\n",
    "            return t\n",
    "\n",
    "#main function for calculating review time        \n",
    "def calculate_review_time(flashcard,pqueue):\n",
    "    \n",
    "    #n_correct and n_wrong are for each indiv flashcard\n",
    "    n_correct = flashcard.get_n_correct()\n",
    "    n_wrong = flashcard.get_n_wrong()\n",
    "    \n",
    "    #correct and wrong are for the whole deck average\n",
    "    correct=float(0)\n",
    "    wrong=float(0)\n",
    "    qsize=0\n",
    "    \n",
    "    while not pqueue.empty():\n",
    "        item=pqueue.get()[1]\n",
    "        qsize+=1\n",
    "        correct+=int(item.get_n_correct())\n",
    "        wrong+=int(item.get_n_wrong())\n",
    "    \n",
    "    pqueue.put((float(item.get_review_time()),item))\n",
    "    if qsize!=0:\n",
    "        correct=correct/qsize\n",
    "        wrong=wrong/qsize\n",
    "        \n",
    "\n",
    "    n_t= 2**(-(correct*n_correct+wrong*n_wrong))\n",
    "    t_rev = sampler(n_t, Q, T)\n",
    "    return t_rev\n",
    "\n",
    "from queue import PriorityQueue\n",
    "flashcard1=flashcard('What is force?',\"Force is the product of mass and acceleration.\")\n",
    "flashcard2=flashcard('hi','bye')\n",
    "p0= PriorityQueue()\n",
    "p0.put((2.5,flashcard1))\n",
    "p0.put((0.3,flashcard2))\n",
    "\n",
    "print(calculate_review_time(flashcard1,p0))\n",
    "\n",
    "       \n"
   ]
  },
  {
   "cell_type": "code",
   "execution_count": null,
   "id": "7db76e90",
   "metadata": {},
   "outputs": [],
   "source": []
  },
  {
   "cell_type": "code",
   "execution_count": null,
   "id": "cb2f8952",
   "metadata": {},
   "outputs": [],
   "source": []
  },
  {
   "cell_type": "code",
   "execution_count": 3,
   "id": "f5e26748",
   "metadata": {},
   "outputs": [],
   "source": [
    "flashcard1=flashcard(\"konnichiwa\",\"hi\")\n",
    "flashcard2=flashcard('sayonara','bye')\n",
    "flashcard3=flashcard('ichi','one')\n",
    "flashcard4=flashcard('ichigo','strawberry')\n",
    "\n",
    "pnew=PriorityQueue()\n",
    "pnew.put((2.5,flashcard1))\n",
    "pnew.put((0.3,flashcard2))\n",
    "pnew.put((0.2,flashcard3))\n",
    "pnew.put((4.1,flashcard4))\n",
    "\n"
   ]
  },
  {
   "cell_type": "code",
   "execution_count": 4,
   "id": "56578817",
   "metadata": {},
   "outputs": [],
   "source": [
    "def show_flashcard(pqueue):\n",
    "    status=''\n",
    "    while status != 'stop':\n",
    "        flashcard_to_show=pqueue.get()[1]\n",
    "        print(f'{flashcard_to_show.get_qns()}')\n",
    "        status = input('Type C (correct) or W (wrong), or type \"stop\" to end: ').lower()\n",
    "        if status == 'stop':\n",
    "            break\n",
    "        elif status == 'c':\n",
    "            flashcard_to_show.set_n_correct(flashcard_to_show.get_n_correct() + 1)\n",
    "        elif status == 'w':\n",
    "            flashcard_to_show.set_n_wrong(flashcard_to_show.get_n_wrong() + 1)\n",
    "            print('done')\n",
    "        \n",
    "        #attain new review time\n",
    "        review_time = calculate_review_time(flashcard_to_show,pqueue)\n",
    "        print(review_time)\n",
    "        \n",
    "        # Enqueue the modified flashcard back into the priority queue in new position\n",
    "        pqueue.put((review_time, flashcard_to_show))\n",
    "        print(pqueue)\n",
    "    \n",
    "   \n",
    "    "
   ]
  },
  {
   "cell_type": "markdown",
   "id": "db8a3a19",
   "metadata": {},
   "source": [
    "# VERSION 2"
   ]
  },
  {
   "cell_type": "code",
   "execution_count": 5,
   "id": "658d9590",
   "metadata": {},
   "outputs": [],
   "source": [
    "#flashcard class\n",
    "class flashcard():\n",
    "    def __init__(self, qns, ans, ease_record=[], review_time=0):\n",
    "        self._qns = qns\n",
    "        self._ans = ans \n",
    "        self._ease_record=ease_record\n",
    "        self._review_time = review_time\n",
    "        \n",
    "    def get_qns(self):\n",
    "        return self._qns\n",
    "    def get_ans(self):\n",
    "        return self._ans\n",
    "    def get_review_time(self):\n",
    "        return self._review_time\n",
    "    def get_ease_record(self):\n",
    "        return self._ease_record\n",
    "    \n",
    "    def set_qns(self,qns):\n",
    "        self._qns=qns\n",
    "    def set_ans(self,ans):\n",
    "        self._ans=ans\n",
    "    def set_review_time(self,review_time):\n",
    "        self._review_time=review_time\n",
    "        \n",
    "    def add_ease_record(self,new_record):\n",
    "        self._ease_record.append(new_record)\n",
    "\n",
    "        \n",
    "    def __str__(self):\n",
    "        ret= f\"{self._qns}, {self._ans}, {self._ease_record}, {self._review_time}\"\n",
    "        return ret\n",
    "    \n",
    "    def __lt__(self, other):\n",
    "        #Criteria for prioritizing flashcards based on the length of the question\n",
    "        return len(self._qns) < len(other._qns)\n",
    "    \n"
   ]
  },
  {
   "cell_type": "code",
   "execution_count": 6,
   "id": "e58ffaa9",
   "metadata": {},
   "outputs": [
    {
     "name": "stdout",
     "output_type": "stream",
     "text": [
      "hallo, hello, [2, 3], 0\n"
     ]
    }
   ],
   "source": [
    "#TESTING, DELETE LATER\n",
    "flashcardA=flashcard('hallo','hello')\n",
    "flashcardA.add_ease_record(2)\n",
    "flashcardA.add_ease_record(3)\n",
    "print(flashcardA)"
   ]
  },
  {
   "cell_type": "code",
   "execution_count": 7,
   "id": "cb37a526",
   "metadata": {},
   "outputs": [
    {
     "name": "stdout",
     "output_type": "stream",
     "text": [
      "[(0, <__main__.flashcard object at 0x103d43eb0>), (0, <__main__.flashcard object at 0x103d40f40>), (0, <__main__.flashcard object at 0x103d0dcf0>), (0, <__main__.flashcard object at 0x103d0d180>)]\n"
     ]
    }
   ],
   "source": [
    "#this is how to use a priority queue\n",
    "\n",
    "pnew=PriorityQueue()\n",
    "\n",
    "flashcard1=flashcard(\"konnichiwa\",\"hi\")\n",
    "flashcard2=flashcard('sayonara','bye')\n",
    "flashcard3=flashcard('ichi','one')\n",
    "flashcard4=flashcard('ichigo','strawberry')\n",
    "\n",
    "pnew.put((flashcard1.get_review_time(),flashcard1))\n",
    "pnew.put((flashcard2.get_review_time(),flashcard2))\n",
    "pnew.put((flashcard3.get_review_time(),flashcard3))\n",
    "pnew.put((flashcard4.get_review_time(),flashcard4))\n",
    "\n",
    "print(pnew.queue)\n"
   ]
  },
  {
   "cell_type": "code",
   "execution_count": 8,
   "id": "c93bee4a",
   "metadata": {},
   "outputs": [
    {
     "data": {
      "text/plain": [
       "10.54618121573873"
      ]
     },
     "execution_count": 8,
     "metadata": {},
     "output_type": "execute_result"
    }
   ],
   "source": [
    "# adapted from https://gist.github.com/doctorpangloss/13ab29abd087dc1927475e560f876797\n",
    "# Polyglot spaced repetition algorithm\n",
    "#Based on \"SM2+\":\n",
    "#(1 day for incorrect items because you want to test as soon as possible, since clearly the user did not remember well)\n",
    "\n",
    "\"\"\"\n",
    "Returns the number of days to delay the next review of an item by, fractionally, based on the history of answers x to\n",
    "a given question, where\n",
    "x == 0: Incorrect, Very Hard\n",
    "x == 1: Incorrect, Hard\n",
    "x == 2: Correct, Easy\n",
    "x == 3: Correct, Very Easy\n",
    "@param x The history of answers in the above scoring.\n",
    "@param theta When larger, the delays for correct answers will increase.\n",
    "\"\"\"\n",
    "    \n",
    "def sm2(x: [int], a=6.0, b=-0.8, c=0.28, d=0.02, theta=0.3) -> float:\n",
    "    assert all(0 <= x_i <= 5 for x_i in x)\n",
    "    correct_x = [x_i >= 2 for x_i in x]\n",
    "    # If you got the last question incorrect, just return 1\n",
    "    if not correct_x[-1]:\n",
    "        return 1.0\n",
    "    \n",
    "    # Calculate the latest consecutive answer streak\n",
    "    num_consecutively_correct = 0\n",
    "    for correct in reversed(correct_x):\n",
    "        if correct:\n",
    "            num_consecutively_correct += 1\n",
    "        else:\n",
    "            break\n",
    "    \n",
    "    return a*(max(1.3, 2.5 + sum(b+c*x_i+d*x_i*x_i for x_i in x)))**(theta*num_consecutively_correct)\n",
    "\n",
    "#testing\n",
    "x=[1,2,3,2]\n",
    "sm2(flashcardA.get_ease_record())\n",
    " "
   ]
  },
  {
   "cell_type": "code",
   "execution_count": null,
   "id": "4a9c42b0",
   "metadata": {},
   "outputs": [
    {
     "name": "stdout",
     "output_type": "stream",
     "text": [
      "ichi\n"
     ]
    }
   ],
   "source": [
    "from IPython.display import clear_output\n",
    "\n",
    "\n",
    "def show_flashcard(pqueue):\n",
    "    status=''\n",
    "    while status!='stop':\n",
    "        flashcard_to_show=pqueue.get()[1]\n",
    "        print(flashcard_to_show.get_qns())\n",
    "        show_answer=input('Input anything to see the answer')\n",
    "        print('---------------------------------------------------------------------------------------------')\n",
    "        print(flashcard_to_show.get_ans())\n",
    "        \n",
    "        invalid=0\n",
    "        while invalid!=1:\n",
    "            new_record = input('Type 0 for Very Hard, 1 for Hard, 2 for Easy and 3 for Very Easy: ')\n",
    "            if new_record=='0' or new_record=='1' or new_record =='2' or new_record=='3':\n",
    "                invalid=1\n",
    "        new_record=int(new_record)\n",
    "        flashcard_to_show.add_ease_record(new_record)\n",
    "        new_review_time=sm2(flashcard_to_show.get_ease_record())\n",
    "        pqueue.put((new_review_time,flashcard_to_show))\n",
    "        clear_output()\n",
    "        show_flashcard(pqueue)\n",
    "        \n",
    "show_flashcard(pnew)\n",
    "   \n",
    "    "
   ]
  },
  {
   "cell_type": "code",
   "execution_count": null,
   "id": "8c31da7e",
   "metadata": {},
   "outputs": [],
   "source": []
  }
 ],
 "metadata": {
  "kernelspec": {
   "display_name": "Python 3 (ipykernel)",
   "language": "python",
   "name": "python3"
  },
  "language_info": {
   "codemirror_mode": {
    "name": "ipython",
    "version": 3
   },
   "file_extension": ".py",
   "mimetype": "text/x-python",
   "name": "python",
   "nbconvert_exporter": "python",
   "pygments_lexer": "ipython3",
   "version": "3.10.9"
  }
 },
 "nbformat": 4,
 "nbformat_minor": 5
}
