{
 "cells": [
  {
   "cell_type": "code",
   "execution_count": 1,
   "id": "7842b78d-867f-4cc2-b910-8faa1ee0359a",
   "metadata": {
    "collapsed": true,
    "jupyter": {
     "outputs_hidden": true
    },
    "scrolled": true
   },
   "outputs": [
    {
     "name": "stdout",
     "output_type": "stream",
     "text": [
      "Collecting stanza\n",
      "  Using cached stanza-1.8.1-py3-none-any.whl (970 kB)\n",
      "Requirement already satisfied: tqdm in /home/zuoyu916/.local/lib/python3.9/site-packages (from stanza) (4.66.2)\n",
      "Requirement already satisfied: torch>=1.3.0 in /home/zuoyu916/.local/lib/python3.9/site-packages (from stanza) (2.2.1)\n",
      "Requirement already satisfied: emoji in /home/zuoyu916/.local/lib/python3.9/site-packages (from stanza) (2.11.0)\n",
      "Requirement already satisfied: protobuf>=3.15.0 in /home/zuoyu916/.local/lib/python3.9/site-packages (from stanza) (5.26.1)\n",
      "Requirement already satisfied: requests in /home/zuoyu916/.local/lib/python3.9/site-packages (from stanza) (2.31.0)\n",
      "Requirement already satisfied: networkx in /home/zuoyu916/.local/lib/python3.9/site-packages (from stanza) (3.2.1)\n",
      "Requirement already satisfied: toml in /home/zuoyu916/.local/lib/python3.9/site-packages (from stanza) (0.10.2)\n",
      "Requirement already satisfied: numpy in /home/zuoyu916/.local/lib/python3.9/site-packages (from stanza) (1.26.3)\n",
      "Requirement already satisfied: nvidia-cuda-nvrtc-cu12==12.1.105 in /home/zuoyu916/.local/lib/python3.9/site-packages (from torch>=1.3.0->stanza) (12.1.105)\n",
      "Requirement already satisfied: nvidia-nvtx-cu12==12.1.105 in /home/zuoyu916/.local/lib/python3.9/site-packages (from torch>=1.3.0->stanza) (12.1.105)\n",
      "Requirement already satisfied: sympy in /home/zuoyu916/.local/lib/python3.9/site-packages (from torch>=1.3.0->stanza) (1.12)\n",
      "Requirement already satisfied: jinja2 in /home/zuoyu916/.local/lib/python3.9/site-packages (from torch>=1.3.0->stanza) (3.1.2)\n",
      "Requirement already satisfied: nvidia-cuda-cupti-cu12==12.1.105 in /home/zuoyu916/.local/lib/python3.9/site-packages (from torch>=1.3.0->stanza) (12.1.105)\n",
      "Requirement already satisfied: triton==2.2.0 in /home/zuoyu916/.local/lib/python3.9/site-packages (from torch>=1.3.0->stanza) (2.2.0)\n",
      "Requirement already satisfied: nvidia-cuda-runtime-cu12==12.1.105 in /home/zuoyu916/.local/lib/python3.9/site-packages (from torch>=1.3.0->stanza) (12.1.105)\n",
      "Requirement already satisfied: nvidia-cublas-cu12==12.1.3.1 in /home/zuoyu916/.local/lib/python3.9/site-packages (from torch>=1.3.0->stanza) (12.1.3.1)\n",
      "Requirement already satisfied: fsspec in /home/zuoyu916/.local/lib/python3.9/site-packages (from torch>=1.3.0->stanza) (2024.3.1)\n",
      "Requirement already satisfied: nvidia-cusolver-cu12==11.4.5.107 in /home/zuoyu916/.local/lib/python3.9/site-packages (from torch>=1.3.0->stanza) (11.4.5.107)\n",
      "Requirement already satisfied: nvidia-nccl-cu12==2.19.3 in /home/zuoyu916/.local/lib/python3.9/site-packages (from torch>=1.3.0->stanza) (2.19.3)\n",
      "Requirement already satisfied: nvidia-curand-cu12==10.3.2.106 in /home/zuoyu916/.local/lib/python3.9/site-packages (from torch>=1.3.0->stanza) (10.3.2.106)\n",
      "Requirement already satisfied: nvidia-cufft-cu12==11.0.2.54 in /home/zuoyu916/.local/lib/python3.9/site-packages (from torch>=1.3.0->stanza) (11.0.2.54)\n",
      "Requirement already satisfied: typing-extensions>=4.8.0 in /home/zuoyu916/.local/lib/python3.9/site-packages (from torch>=1.3.0->stanza) (4.9.0)\n",
      "Requirement already satisfied: nvidia-cusparse-cu12==12.1.0.106 in /home/zuoyu916/.local/lib/python3.9/site-packages (from torch>=1.3.0->stanza) (12.1.0.106)\n",
      "Requirement already satisfied: nvidia-cudnn-cu12==8.9.2.26 in /home/zuoyu916/.local/lib/python3.9/site-packages (from torch>=1.3.0->stanza) (8.9.2.26)\n",
      "Requirement already satisfied: filelock in /home/zuoyu916/.local/lib/python3.9/site-packages (from torch>=1.3.0->stanza) (3.13.3)\n",
      "Requirement already satisfied: nvidia-nvjitlink-cu12 in /home/zuoyu916/.local/lib/python3.9/site-packages (from nvidia-cusolver-cu12==11.4.5.107->torch>=1.3.0->stanza) (12.4.99)\n",
      "Requirement already satisfied: MarkupSafe>=2.0 in /home/zuoyu916/.local/lib/python3.9/site-packages (from jinja2->torch>=1.3.0->stanza) (2.1.3)\n",
      "Requirement already satisfied: idna<4,>=2.5 in /usr/lib/python3/dist-packages (from requests->stanza) (2.10)\n",
      "Requirement already satisfied: urllib3<3,>=1.21.1 in /usr/lib/python3/dist-packages (from requests->stanza) (1.26.5)\n",
      "Requirement already satisfied: certifi>=2017.4.17 in /home/zuoyu916/.local/lib/python3.9/site-packages (from requests->stanza) (2024.2.2)\n",
      "Requirement already satisfied: charset-normalizer<4,>=2 in /home/zuoyu916/.local/lib/python3.9/site-packages (from requests->stanza) (3.3.2)\n",
      "Requirement already satisfied: mpmath>=0.19 in /home/zuoyu916/.local/lib/python3.9/site-packages (from sympy->torch>=1.3.0->stanza) (1.3.0)\n",
      "Installing collected packages: stanza\n",
      "Successfully installed stanza-1.8.1\n"
     ]
    }
   ],
   "source": [
    "!pip install stanza"
   ]
  },
  {
   "cell_type": "code",
   "execution_count": 9,
   "id": "0e190c5e-51c0-42b8-b244-3b3aad2663cf",
   "metadata": {
    "collapsed": true,
    "jupyter": {
     "outputs_hidden": true,
     "source_hidden": true
    }
   },
   "outputs": [
    {
     "name": "stderr",
     "output_type": "stream",
     "text": [
      "2024-04-17 12:45:17 INFO: Checking for updates to resources.json in case models have been updated.  Note: this behavior can be turned off with download_method=None or download_method=DownloadMethod.REUSE_RESOURCES\n"
     ]
    },
    {
     "data": {
      "application/vnd.jupyter.widget-view+json": {
       "model_id": "b14f211734354eb4823cb8c8519b4176",
       "version_major": 2,
       "version_minor": 0
      },
      "text/plain": [
       "Downloading https://raw.githubusercontent.com/stanfordnlp/stanza-resources/main/resources_1.8.0.json:   0%|   …"
      ]
     },
     "metadata": {},
     "output_type": "display_data"
    },
    {
     "name": "stderr",
     "output_type": "stream",
     "text": [
      "2024-04-17 12:45:17 INFO: Downloaded file to /home/zuoyu916/stanza_resources/resources.json\n",
      "2024-04-17 12:45:18 INFO: Loading these models for language: en (English):\n",
      "============================================\n",
      "| Processor    | Package                   |\n",
      "--------------------------------------------\n",
      "| tokenize     | combined                  |\n",
      "| mwt          | combined                  |\n",
      "| pos          | combined_charlm           |\n",
      "| lemma        | combined_nocharlm         |\n",
      "| constituency | ptb3-revised_charlm       |\n",
      "| depparse     | combined_charlm           |\n",
      "| sentiment    | sstplus_charlm            |\n",
      "| ner          | ontonotes-ww-multi_charlm |\n",
      "============================================\n",
      "\n",
      "2024-04-17 12:45:18 INFO: Using device: cpu\n",
      "2024-04-17 12:45:18 INFO: Loading: tokenize\n",
      "2024-04-17 12:45:18 INFO: Loading: mwt\n",
      "2024-04-17 12:45:18 INFO: Loading: pos\n",
      "2024-04-17 12:45:19 INFO: Loading: lemma\n",
      "2024-04-17 12:45:19 INFO: Loading: constituency\n",
      "2024-04-17 12:45:20 INFO: Loading: depparse\n",
      "2024-04-17 12:45:20 INFO: Loading: sentiment\n",
      "2024-04-17 12:45:21 INFO: Loading: ner\n",
      "2024-04-17 12:45:22 INFO: Done loading processors!\n"
     ]
    },
    {
     "name": "stdout",
     "output_type": "stream",
     "text": [
      "('Barack', 4, 'nsubj:pass')\n",
      "('Obama', 1, 'flat')\n",
      "('was', 4, 'aux:pass')\n",
      "('born', 0, 'root')\n",
      "('in', 6, 'case')\n",
      "('Hawaii', 4, 'obl')\n",
      "('.', 4, 'punct')\n"
     ]
    }
   ],
   "source": [
    "import stanza\n",
    "# stanza.download('en')       # This downloads the English models for the neural pipeline\n",
    "nlp = stanza.Pipeline('en') # This sets up a default neural pipeline in English\n",
    "doc = nlp(\"Barack Obama was born in Hawaii.  He was elected president in 2008.\")\n",
    "doc.sentences[0].print_dependencies()"
   ]
  },
  {
   "cell_type": "code",
   "execution_count": 3,
   "id": "1ea14f41-8b9f-495f-9fae-1aeb6036c3e9",
   "metadata": {
    "collapsed": true,
    "jupyter": {
     "outputs_hidden": true,
     "source_hidden": true
    }
   },
   "outputs": [
    {
     "name": "stdout",
     "output_type": "stream",
     "text": [
      "\tThe, DET, det\n",
      "\tmagnetic, ADJ, amod\n",
      "flux, NOUN, compound\n",
      "density, NOUN, nsubj:pass\n",
      "\tis, AUX, aux:pass\n",
      "\tdefined, VERB, root\n",
      "\tas, ADP, case\n",
      "\tthe, DET, det\n",
      "force, NOUN, obl\n",
      "\tper, ADP, case\n",
      "unit, NOUN, compound\n",
      "length, NOUN, nmod\n",
      "\tper, ADP, case\n",
      "unit, NOUN, compound\n",
      "current, NOUN, nmod\n",
      "\tacting, VERB, advcl\n",
      "\ton, ADP, case\n",
      "\ta, DET, det\n",
      "\tstraight, ADJ, amod\n",
      "\tcurrent, ADJ, amod\n",
      "\t-, PUNCT, punct\n",
      "\tcarrying, VERB, amod\n",
      "conductor, NOUN, obl\n",
      "\tplaced, VERB, acl\n",
      "\tperpendicular, ADJ, xcomp\n",
      "\tto, ADP, case\n",
      "\ta, DET, det\n",
      "\tmagnetic, ADJ, amod\n",
      "field, NOUN, obl\n",
      "\t., PUNCT, punct\n"
     ]
    }
   ],
   "source": [
    "import stanza\n",
    "#assuming NLP pipeline for english has already been initialised\n",
    "\n",
    "def extract_words(input_text):\n",
    "\n",
    "    # Process the input text\n",
    "    doc = nlp(input_text)\n",
    "\n",
    "    # Extract nouns (NN, NNS, NNP, NNPS)\n",
    "    ##ADJ for adjectives\n",
    "    ##N for nouns\n",
    "    nouns = []\n",
    "    for sentence in doc.sentences:\n",
    "        for word in sentence.words:\n",
    "            if word.upos.startswith('N') or word.upos == \"PROPN\":\n",
    "                print(f\"{word.text}, {word.upos}, {word.deprel}\")\n",
    "            else:\n",
    "                print(f\"\\t{word.text}, {word.upos}, {word.deprel}\")\n",
    "\n",
    "# Example usage\n",
    "input_sentence = \"The magnetic flux density is defined as the force per unit length per unit current acting on a straight current-carrying conductor placed perpendicular to a magnetic field.\"\n",
    "nouns_list = extract_words(input_sentence)"
   ]
  },
  {
   "cell_type": "code",
   "execution_count": 4,
   "id": "b0679b52-65e5-41fb-85ad-4d04f909334c",
   "metadata": {
    "jupyter": {
     "source_hidden": true
    }
   },
   "outputs": [],
   "source": [
    "def extract_subj(input_text):\n",
    "    doc = nlp(input_text)\n",
    "    long = []\n",
    "    for sentence in doc.sentences:\n",
    "        out = \"\"\n",
    "        for word in sentence.words:\n",
    "            if word.upos == \"ADJ\":\n",
    "                out += f\"{word.text} \"\n",
    "            elif word.upos.startswith(\"N\"):\n",
    "                out += f\"{word.text} \"\n",
    "            if word.upos == \"AUX\":\n",
    "                long.append(out)\n",
    "                break\n",
    "    if long:\n",
    "        return long"
   ]
  },
  {
   "cell_type": "code",
   "execution_count": 5,
   "id": "0c837aba-ef0d-4800-9569-03ffa76f3d3e",
   "metadata": {
    "collapsed": true,
    "jupyter": {
     "outputs_hidden": true,
     "source_hidden": true
    }
   },
   "outputs": [
    {
     "name": "stdout",
     "output_type": "stream",
     "text": [
      "['naturalistic fallacy ']\n"
     ]
    }
   ],
   "source": [
    "input_sentence = \"\"\"\n",
    "The naturalistic fallacy: Just because this is the way things CURRENTLY ARE does not mean this is the way things OUGHT TO BE.\n",
    "\"\"\"\n",
    "print(extract_subj(input_sentence))"
   ]
  },
  {
   "cell_type": "code",
   "execution_count": 16,
   "id": "b386d64c-6be5-444c-92d8-3a49af5b3dd7",
   "metadata": {
    "jupyter": {
     "source_hidden": true
    },
    "scrolled": true
   },
   "outputs": [],
   "source": [
    "import re\n",
    "#Assuming stanza is imported\n",
    "def extract_subj_v2(input_text):\n",
    "    #Assuming stanza pipeline for english has already been initialised\n",
    "    long_linetext = re.sub(r'[\\n\\r]+',': ',input_text)\n",
    "    # print(long_linetext)\n",
    "    doc = nlp(long_linetext)\n",
    "    long = {'subj':''}\n",
    "    for sentence in doc.sentences:\n",
    "        out = \"\"\n",
    "        for word in sentence.words:\n",
    "            if word.upos == \"ADJ\":\n",
    "                out += f\"{word.text} \"\n",
    "            elif word.upos == \"ADP\":\n",
    "                out += f\"{word.text} \"\n",
    "            elif word.upos.startswith(\"N\") or word.upos == \"PROPN\":\n",
    "                out += f\"{word.text} \"\n",
    "            elif word.upos == \"AUX\" or word.text==\":\":\n",
    "                if out != '': \n",
    "                    long['subj'] = out\n",
    "                    long[word.upos] = word.text\n",
    "                break\n",
    "\n",
    "        # if out != '': long.append({\"subj\":out,word.upos:word.text})\n",
    "    if long:\n",
    "        return long"
   ]
  },
  {
   "cell_type": "code",
   "execution_count": 31,
   "id": "63f85002-55df-495f-8b52-544b05a63339",
   "metadata": {
    "collapsed": true,
    "jupyter": {
     "outputs_hidden": true,
     "source_hidden": true
    }
   },
   "outputs": [
    {
     "name": "stdout",
     "output_type": "stream",
     "text": [
      "{'subj': 'dog ', 'AUX': 'is'}\n",
      "{'subj': 'magnetic flux density ', 'AUX': 'is'}\n",
      "{'subj': 'Intuitionism ', 'PUNCT': ':'}\n",
      "{'subj': ''}\n",
      "{'subj': 'Divine Command Theory DCT ', 'PUNCT': ':'}\n",
      "{'subj': 'Momentum ', 'AUX': 'is'}\n",
      "Momentum, NOUN, nsubj\n",
      "\tis, AUX, cop\n",
      "\tthe, DET, det\n",
      "product, NOUN, root\n",
      "\tof, ADP, case\n",
      "force, NOUN, nmod\n",
      "\tand, CCONJ, cc\n",
      "velocity, NOUN, conj\n",
      "\t., PUNCT, punct\n",
      "\tIt, PRON, nsubj\n",
      "\tis, AUX, cop\n",
      "\tthe, DET, det\n",
      "integral, NOUN, root\n",
      "\tof, ADP, case\n",
      "Force, NOUN, nmod\n",
      "\tw.r.t., SYM, case\n",
      "time, NOUN, appos\n",
      "\t., PUNCT, punct\n",
      "{'subj': 'Momentum ', 'AUX': 'is'}\n",
      "\tThere, PRON, expl\n",
      "\tis, VERB, root\n",
      "\ta, DET, det\n",
      "\thigh, ADJ, amod\n",
      "number, NOUN, nsubj\n",
      "\tof, ADP, case\n",
      "commuters, NOUN, nmod\n",
      "\tin, ADP, case\n",
      "\tthe, DET, det\n",
      "evening, NOUN, obl\n",
      "\t,, PUNCT, punct\n",
      "\twhich, PRON, nsubj\n",
      "\tis, AUX, cop\n",
      "\tthe, DET, det\n",
      "cause, NOUN, acl:relcl\n",
      "\tof, ADP, case\n",
      "\tthe, DET, det\n",
      "jam, NOUN, nmod\n",
      "\t., PUNCT, punct\n",
      "{'subj': 'high number of commuters in evening ', 'AUX': 'is'}\n",
      "\tThe, DET, det\n",
      "equation, NOUN, nsubj\n",
      "\tfor, ADP, case\n",
      "Force, PROPN, nmod\n",
      "\tonly, ADV, advmod\n",
      "\tdue, ADP, case\n",
      "\tto, ADP, fixed\n",
      "acceleration, NOUN, nmod\n",
      "\tis, AUX, cop\n",
      "\t$, SYM, root\n",
      "F=ma, PROPN, flat\n",
      "\t$, SYM, appos\n",
      "{'subj': 'equation for Force due to acceleration ', 'AUX': 'is'}\n"
     ]
    }
   ],
   "source": [
    "input_sentence = \"A dog is a mammal.\"\n",
    "print(extract_subj_v2(input_sentence))\n",
    "\n",
    "input_sentence = \"\"\"The magnetic flux density is defined as the force per unit length per unit current acting\n",
    "on a straight current-carrying conductor placed perpendicular to a magnetic field.\"\"\"\n",
    "# extract_words(input_sentence)\n",
    "print(extract_subj_v2(input_sentence))\n",
    "\n",
    "input_sentence = \"\"\"Intuitionism: \n",
    "It is the theory that moral truths in metaethics are known directly by intuition.\"\"\"\n",
    "# extract_words(input_sentence)\n",
    "print(extract_subj_v2(input_sentence))\n",
    "\n",
    "input_sentence = \"\"\"\n",
    "The naturalistic fallacy: Just because this is the way things CURRENTLY ARE does not mean this is the way things OUGHT TO BE.\n",
    "\"\"\"\n",
    "print(extract_subj_v2(input_sentence))\n",
    "\n",
    "input_sentence = \"\"\"Divine Command Theory (DCT)\n",
    "It holds that all moral beliefs come from God.\"\"\"\n",
    "# extract_words(input_sentence)\n",
    "print(extract_subj_v2(input_sentence))\n",
    "\n",
    "input_sentence = \"\"\"Force is the product of mass and acceleration. Momentum is the product of force and velocity.\"\"\"\n",
    "# extract_words(input_sentence) ##Able to distinguish the key points from 2 dff sentences\n",
    "print(extract_subj_v2(input_sentence))\n",
    "\n",
    "input_sentence = \"\"\"Momentum is the product of force and velocity. It is the integral of Force w.r.t. time.\"\"\"\n",
    "extract_words(input_sentence)\n",
    "print(extract_subj_v2(input_sentence))\n",
    "\n",
    "input_sentence = \"\"\"There is a high number of commuters in the evening, which is the cause of the jam.\"\"\"\n",
    "extract_words(input_sentence) ##Code understands that 'is' is not used for deginition in this case\n",
    "print(extract_subj_v2(input_sentence))\n",
    "\n",
    "input_sentence = \"\"\"The equation for Force only due to acceleration is $F=ma$\"\"\"\n",
    "extract_words(input_sentence)\n",
    "print(extract_subj_v2(input_sentence))"
   ]
  },
  {
   "cell_type": "code",
   "execution_count": 32,
   "id": "3dd2f9c7-40ef-421f-ac8c-6c19eb5e43ef",
   "metadata": {
    "collapsed": true,
    "jupyter": {
     "outputs_hidden": true,
     "source_hidden": true
    }
   },
   "outputs": [
    {
     "name": "stdout",
     "output_type": "stream",
     "text": [
      "What is Momentum?\n",
      "Momentum is the product of force and velocity. It is the integral of Force w.r.t. time.\n"
     ]
    }
   ],
   "source": [
    "class flashcard():\n",
    "    def __init__(self, text):\n",
    "        self._qns = self.extract(text)\n",
    "        self._ans = text\n",
    "    def output(self):\n",
    "        return f\"{self._qns}\\n{self._ans}\"\n",
    "    def extract(self,text):\n",
    "        d = extract_subj_v2(text)\n",
    "        try:\n",
    "            aux = d[\"AUX\"]\n",
    "        except KeyError:\n",
    "            aux = \"is\"\n",
    "        subj = d[\"subj\"]\n",
    "        return f\"What {aux} {subj.rstrip(' ')}?\" if len(subj) != 0 else None\n",
    "\n",
    "dog = flashcard(\"Momentum is the product of force and velocity. It is the integral of Force w.r.t. time.\")\n",
    "print(dog.output())"
   ]
  },
  {
   "cell_type": "code",
   "execution_count": 1,
   "id": "9e91fac9-4b1d-4f42-8eb0-f3b1721e3c53",
   "metadata": {
    "collapsed": true,
    "jupyter": {
     "outputs_hidden": true,
     "source_hidden": true
    },
    "scrolled": true
   },
   "outputs": [
    {
     "name": "stderr",
     "output_type": "stream",
     "text": [
      "2024-04-17 12:43:02 INFO: Checking for updates to resources.json in case models have been updated.  Note: this behavior can be turned off with download_method=None or download_method=DownloadMethod.REUSE_RESOURCES\n"
     ]
    },
    {
     "data": {
      "application/vnd.jupyter.widget-view+json": {
       "model_id": "d8f4561b6f2c46bfb7445ca2665d6742",
       "version_major": 2,
       "version_minor": 0
      },
      "text/plain": [
       "Downloading https://raw.githubusercontent.com/stanfordnlp/stanza-resources/main/resources_1.8.0.json:   0%|   …"
      ]
     },
     "metadata": {},
     "output_type": "display_data"
    },
    {
     "name": "stderr",
     "output_type": "stream",
     "text": [
      "2024-04-17 12:43:02 INFO: Downloaded file to /home/zuoyu916/stanza_resources/resources.json\n",
      "2024-04-17 12:43:02 WARNING: Language en package default expects mwt, which has been added\n",
      "2024-04-17 12:43:02 INFO: Loading these models for language: en (English):\n",
      "========================\n",
      "| Processor | Package  |\n",
      "------------------------\n",
      "| tokenize  | combined |\n",
      "| mwt       | combined |\n",
      "========================\n",
      "\n",
      "2024-04-17 12:43:02 INFO: Using device: cpu\n",
      "2024-04-17 12:43:02 INFO: Loading: tokenize\n",
      "2024-04-17 12:43:03 INFO: Loading: mwt\n",
      "2024-04-17 12:43:03 INFO: Done loading processors!\n"
     ]
    }
   ],
   "source": [
    "import stanza\n",
    "nlp2 = stanza.Pipeline('en', processors = \"tokenize\")"
   ]
  },
  {
   "cell_type": "code",
   "execution_count": 2,
   "id": "ffb2eeb2-91b9-4bf0-ba8e-fdf205f83ed0",
   "metadata": {
    "collapsed": true,
    "jupyter": {
     "outputs_hidden": true,
     "source_hidden": true
    }
   },
   "outputs": [
    {
     "name": "stdout",
     "output_type": "stream",
     "text": [
      "[[{\n",
      "  \"id\": 1,\n",
      "  \"text\": \"Testing\",\n",
      "  \"start_char\": 0,\n",
      "  \"end_char\": 7\n",
      "}, {\n",
      "  \"id\": 2,\n",
      "  \"text\": \"out\",\n",
      "  \"start_char\": 8,\n",
      "  \"end_char\": 11\n",
      "}, {\n",
      "  \"id\": 3,\n",
      "  \"text\": \"a\",\n",
      "  \"start_char\": 12,\n",
      "  \"end_char\": 13\n",
      "}, {\n",
      "  \"id\": 4,\n",
      "  \"text\": \"new\",\n",
      "  \"start_char\": 14,\n",
      "  \"end_char\": 17\n",
      "}, {\n",
      "  \"id\": 5,\n",
      "  \"text\": \"sentence\",\n",
      "  \"start_char\": 18,\n",
      "  \"end_char\": 26\n",
      "}, {\n",
      "  \"id\": 6,\n",
      "  \"text\": \".\",\n",
      "  \"start_char\": 26,\n",
      "  \"end_char\": 27\n",
      "}]]\n"
     ]
    }
   ],
   "source": [
    "doc = nlp2(\"Testing out a new sentence.\")\n",
    "print([doc.words for doc in doc.sentences])"
   ]
  },
  {
   "cell_type": "code",
   "execution_count": 40,
   "id": "ea9596a4-d061-45ec-912a-8c542179e409",
   "metadata": {
    "jupyter": {
     "source_hidden": true
    }
   },
   "outputs": [],
   "source": [
    "import re\n",
    "#Assuming stanza is imported\n",
    "def extract_subj_v3(input_text):\n",
    "    #Assuming stanza pipeline for english has already been initialised\n",
    "    long_linetext = re.sub(r'[\\n\\r]+',': ',input_text)\n",
    "    # print(long_linetext)\n",
    "    doc = nlp(nlp2(long_linetext))\n",
    "    long = {'subj':''}\n",
    "    for sentence in doc.sentences:\n",
    "        out = \"\"\n",
    "        for word in sentence.words:\n",
    "            if word.upos == \"ADJ\":\n",
    "                out += f\"{word.text} \"\n",
    "            elif word.upos == \"ADP\":\n",
    "                out += f\"{word.text} \"\n",
    "            elif word.upos.startswith(\"N\") or word.upos == \"PROPN\":\n",
    "                out += f\"{word.text} \"\n",
    "            elif word.upos == \"AUX\" or word.text==\":\":\n",
    "                if out != '': \n",
    "                    long['subj'] = out\n",
    "                    long[word.upos] = word.text\n",
    "                break\n",
    "\n",
    "        # if out != '': long.append({\"subj\":out,word.upos:word.text})\n",
    "    if long:\n",
    "        return long\n",
    "\n",
    "class flashcard2():\n",
    "    def __init__(self, text):\n",
    "        self._qns = self.extract(text)\n",
    "        self._ans = text\n",
    "    def output(self):\n",
    "        return f\"{self._qns}\\n{self._ans}\"\n",
    "    def extract(self,text):\n",
    "        d = extract_subj_v3(text)\n",
    "        try:\n",
    "            aux = d[\"AUX\"]\n",
    "        except KeyError:\n",
    "            aux = \"is\"\n",
    "        subj = d[\"subj\"]\n",
    "        return f\"What {aux} {subj.rstrip(' ')}?\" if len(subj) != 0 else None"
   ]
  },
  {
   "cell_type": "code",
   "execution_count": 33,
   "id": "de7a85b5-79e5-4b40-9930-9ab08496f6f9",
   "metadata": {
    "collapsed": true,
    "jupyter": {
     "outputs_hidden": true,
     "source_hidden": true
    },
    "scrolled": true
   },
   "outputs": [
    {
     "name": "stdout",
     "output_type": "stream",
     "text": [
      "('V3', 2.620412598999991, 'What is equation for Force due to acceleration?\\nThe equation for Force only due to acceleration is $F=ma$ which is also the rate of change of momentum over time.')\n",
      "('V2', 2.7066345439999964, 'What is History?\\nHistory is a verbal structure in the form of a narrative prose discourse that purports to be a model or icon of past structures.')\n",
      "('V2', 2.6183042689999922, 'What is magnetic flux linkage?\\nThe magnetic flux linkage is defined as the product of the number of turns of the coil and the magnetic flux through each turn.')\n",
      "('V3', 3.480182291999995, 'What can historian?\\nA historian cannot access past events directly, they can only access them indirectly, and any account of these events is thus an invention rather than a representation of the past.')\n",
      "('V2', 1.8347111659999769, 'None\\nAlternating current occurs when charge carriers periodically reverse their direction of motion.')\n",
      "('V2', 2.439261839999972, 'None\\nThe side that the induced current points to has higher potential, because the current pushes electrons away from that side.')\n"
     ]
    }
   ],
   "source": [
    "input_sentences = [\"The equation for Force only due to acceleration is $F=ma$ which is also the rate of change of momentum over time.\",\n",
    "                   \"History is a verbal structure in the form of a narrative prose discourse that purports to be a model or icon of past structures.\",\n",
    "                   \"The magnetic flux linkage is defined as the product of the number of turns of the coil and the magnetic flux through each turn.\",\n",
    "                   \"A historian cannot access past events directly, they can only access them indirectly, and any account of these events is thus an invention rather than a representation of the past.\",\n",
    "                   \"Alternating current occurs when charge carriers periodically reverse their direction of motion.\",\n",
    "                   \"The side that the induced current points to has higher potential, because the current pushes electrons away from that side.\"]\n",
    "import time\n",
    "for n in input_sentences:\n",
    "    start = time.process_time()\n",
    "    v2 = flashcard(n)\n",
    "    V2 = time.process_time() - start\n",
    "    start = time.process_time()\n",
    "    v3 = flashcard2(n)\n",
    "    V3 = time.process_time() - start\n",
    "    print((\"V3\",V3,v3.output()) if V2 > V3 else (\"V2\",V2,v2.output()))"
   ]
  },
  {
   "cell_type": "markdown",
   "id": "c2b28a80-d4bc-4d87-9a58-df84d5b5ae18",
   "metadata": {},
   "source": [
    "# Displaying LaTex"
   ]
  },
  {
   "cell_type": "code",
   "execution_count": 124,
   "id": "e10ea570-7ca8-436c-b2f7-8125211e3d7f",
   "metadata": {},
   "outputs": [
    {
     "data": {
      "text/latex": [
       "Magnetic flux, $\\Phi =B_{\\perp}NA$"
      ],
      "text/plain": [
       "<IPython.core.display.Latex object>"
      ]
     },
     "metadata": {},
     "output_type": "display_data"
    }
   ],
   "source": [
    "from IPython.display import display, Latex\n",
    "display(Latex(\"Magnetic flux, $\\Phi =B_{\\perp}NA$\"))\n",
    "#of course making the assumption that the input LaTex is correct"
   ]
  },
  {
   "cell_type": "markdown",
   "id": "2b026f95-7d59-4eb4-a71f-82a34214c0d4",
   "metadata": {},
   "source": [
    "# WE HAVE BEEN BLESSED BY THE COMPUTING GODS "
   ]
  },
  {
   "cell_type": "code",
   "execution_count": 146,
   "id": "87f88fa5-4fa7-43ab-8c07-b4b390c1be77",
   "metadata": {},
   "outputs": [
    {
     "name": "stderr",
     "output_type": "stream",
     "text": [
      "2024-04-24 04:11:10 INFO: Checking for updates to resources.json in case models have been updated.  Note: this behavior can be turned off with download_method=None or download_method=DownloadMethod.REUSE_RESOURCES\n"
     ]
    },
    {
     "data": {
      "application/vnd.jupyter.widget-view+json": {
       "model_id": "1885a1b0f08f43d4bb894f3658e3c0e9",
       "version_major": 2,
       "version_minor": 0
      },
      "text/plain": [
       "Downloading https://raw.githubusercontent.com/stanfordnlp/stanza-resources/main/resources_1.8.0.json:   0%|   …"
      ]
     },
     "metadata": {},
     "output_type": "display_data"
    },
    {
     "name": "stderr",
     "output_type": "stream",
     "text": [
      "2024-04-24 04:11:11 INFO: Downloaded file to /home/zuoyu916/stanza_resources/resources.json\n",
      "2024-04-24 04:11:11 WARNING: Language en package default expects mwt, which has been added\n",
      "2024-04-24 04:11:14 INFO: Loading these models for language: en (English):\n",
      "===============================\n",
      "| Processor | Package         |\n",
      "-------------------------------\n",
      "| tokenize  | combined        |\n",
      "| mwt       | combined        |\n",
      "| pos       | combined_charlm |\n",
      "===============================\n",
      "\n",
      "2024-04-24 04:11:14 INFO: Using device: cpu\n",
      "2024-04-24 04:11:14 INFO: Loading: tokenize\n",
      "2024-04-24 04:11:14 INFO: Loading: mwt\n",
      "2024-04-24 04:11:14 INFO: Loading: pos\n",
      "2024-04-24 04:11:15 INFO: Done loading processors!\n"
     ]
    }
   ],
   "source": [
    "import stanza\n",
    "nlp4 = stanza.Pipeline('en', processors = \"tokenize,pos\")"
   ]
  },
  {
   "cell_type": "code",
   "execution_count": 149,
   "id": "3c95c5b2-d7ea-4544-802e-199c4ed5fbf2",
   "metadata": {},
   "outputs": [
    {
     "name": "stdout",
     "output_type": "stream",
     "text": [
      "What is Momentum?\n",
      "Momentum is the product of force and velocity. It is the integral of Force w.r.t. time.\n"
     ]
    }
   ],
   "source": [
    "import re\n",
    "#Assuming stanza is imported\n",
    "def extract_subj_v4(input_text):\n",
    "    #Assuming stanza pipeline for english has already been initialised\n",
    "    long_linetext = re.sub(r'[\\n\\r]+',': ',input_text)\n",
    "    # print(long_linetext)\n",
    "    doc = nlp4(long_linetext)\n",
    "    long = {'subj':''}\n",
    "    for sentence in doc.sentences:\n",
    "        out = \"\"\n",
    "        for word in sentence.words:\n",
    "            if word.upos == \"ADJ\":\n",
    "                out += f\"{word.text} \"\n",
    "            elif word.upos == \"ADP\":\n",
    "                out += f\"{word.text} \"\n",
    "            elif word.upos.startswith(\"N\") or word.upos == \"PROPN\":\n",
    "                out += f\"{word.text} \"\n",
    "            elif word.upos == \"AUX\" or word.text==\":\": #hardcode\n",
    "                if out != '': #hardcode\n",
    "                    long['subj'] = out #hardcode\n",
    "                    long[word.upos] = word.text #hardcode\n",
    "                break #hardcode\n",
    "\n",
    "        # if out != '': long.append({\"subj\":out,word.upos:word.text})\n",
    "    if long:\n",
    "        return long\n",
    "\n",
    "class flashcard4():\n",
    "    def __init__(self, text):\n",
    "        self._qns = self.extract(text)\n",
    "        self._ans = text\n",
    "    def output(self):\n",
    "        return f\"{self._qns}\\n{self._ans}\" if self._qns != None else None\n",
    "    def extract(self,text): #hardcode\n",
    "        d = extract_subj_v4(text)\n",
    "        try:\n",
    "            aux = d[\"AUX\"]\n",
    "        except KeyError:\n",
    "            aux = \"is\"\n",
    "        subj = d[\"subj\"]\n",
    "        return f\"What {aux} {subj.rstrip(' ')}?\" if len(subj) != 0 else None\n",
    "\n",
    "dog = flashcard4(\"Momentum is the product of force and velocity. It is the integral of Force w.r.t. time.\")\n",
    "print(dog.output())"
   ]
  },
  {
   "cell_type": "code",
   "execution_count": 61,
   "id": "0798bef0-be53-4066-8e3e-fc7626fff53f",
   "metadata": {},
   "outputs": [
    {
     "name": "stdout",
     "output_type": "stream",
     "text": [
      "('V4', 0.33826237100004164, 'What is equation for Force due to acceleration?\\nThe equation for Force only due to acceleration is $F=ma$ which is also the rate of change of momentum over time.')\n",
      "('V4', 0.3240291899999761, 'What is History?\\nHistory is a verbal structure in the form of a narrative prose discourse that purports to be a model or icon of past structures.')\n",
      "('V4', 0.31145768199996837, 'What is magnetic flux linkage?\\nThe magnetic flux linkage is defined as the product of the number of turns of the coil and the magnetic flux through each turn.')\n",
      "('V4', 0.6002836480000155, 'What can historian?\\nA historian cannot access past events directly, they can only access them indirectly, and any account of these events is thus an invention rather than a representation of the past.')\n",
      "('V4', 0.23678522500000554, None)\n",
      "('V4', 0.30203014700003905, None)\n"
     ]
    }
   ],
   "source": [
    "input_sentences = [\"The equation for Force only due to acceleration is $F=ma$ which is also the rate of change of momentum over time.\",\n",
    "                   \"History is a verbal structure in the form of a narrative prose discourse that purports to be a model or icon of past structures.\",\n",
    "                   \"The magnetic flux linkage is defined as the product of the number of turns of the coil and the magnetic flux through each turn.\",\n",
    "                   \"A historian cannot access past events directly, they can only access them indirectly, and any account of these events is thus an invention rather than a representation of the past.\",\n",
    "                   \"Alternating current occurs when charge carriers periodically reverse their direction of motion.\",\n",
    "                   \"The side that the induced current points to has higher potential, because the current pushes electrons away from that side.\"]\n",
    "\n",
    "import time\n",
    "for n in input_sentences:\n",
    "    start = time.process_time()\n",
    "    v4 = flashcard4(n)\n",
    "    V4 = time.process_time() - start\n",
    "    print((\"V3\",V3,v3.output()) if V3<V4 else (\"V4\",V4,v4.output()) )"
   ]
  },
  {
   "cell_type": "code",
   "execution_count": 81,
   "id": "919c4b93-db48-415c-80e7-0cab964aceae",
   "metadata": {
    "collapsed": true,
    "jupyter": {
     "outputs_hidden": true,
     "source_hidden": true
    },
    "scrolled": true
   },
   "outputs": [
    {
     "name": "stdout",
     "output_type": "stream",
     "text": [
      "[\n",
      "  [\n",
      "    {\n",
      "      \"id\": 1,\n",
      "      \"text\": \"Many\",\n",
      "      \"upos\": \"ADJ\",\n",
      "      \"xpos\": \"JJ\",\n",
      "      \"feats\": \"Degree=Pos\",\n",
      "      \"start_char\": 0,\n",
      "      \"end_char\": 4\n",
      "    },\n",
      "    {\n",
      "      \"id\": 2,\n",
      "      \"text\": \"countries\",\n",
      "      \"upos\": \"NOUN\",\n",
      "      \"xpos\": \"NNS\",\n",
      "      \"feats\": \"Number=Plur\",\n",
      "      \"start_char\": 5,\n",
      "      \"end_char\": 14\n",
      "    },\n",
      "    {\n",
      "      \"id\": 3,\n",
      "      \"text\": \"do\",\n",
      "      \"upos\": \"AUX\",\n",
      "      \"xpos\": \"VBP\",\n",
      "      \"feats\": \"Mood=Ind|Number=Plur|Person=3|Tense=Pres|VerbForm=Fin\",\n",
      "      \"start_char\": 15,\n",
      "      \"end_char\": 17\n",
      "    },\n",
      "    {\n",
      "      \"id\": 4,\n",
      "      \"text\": \"not\",\n",
      "      \"upos\": \"PART\",\n",
      "      \"xpos\": \"RB\",\n",
      "      \"start_char\": 18,\n",
      "      \"end_char\": 21\n",
      "    },\n",
      "    {\n",
      "      \"id\": 5,\n",
      "      \"text\": \"engage\",\n",
      "      \"upos\": \"VERB\",\n",
      "      \"xpos\": \"VB\",\n",
      "      \"feats\": \"VerbForm=Inf\",\n",
      "      \"start_char\": 22,\n",
      "      \"end_char\": 28\n",
      "    },\n",
      "    {\n",
      "      \"id\": 6,\n",
      "      \"text\": \"in\",\n",
      "      \"upos\": \"ADP\",\n",
      "      \"xpos\": \"IN\",\n",
      "      \"start_char\": 29,\n",
      "      \"end_char\": 31\n",
      "    },\n",
      "    {\n",
      "      \"id\": 7,\n",
      "      \"text\": \"free\",\n",
      "      \"upos\": \"ADJ\",\n",
      "      \"xpos\": \"JJ\",\n",
      "      \"feats\": \"Degree=Pos\",\n",
      "      \"start_char\": 32,\n",
      "      \"end_char\": 36\n",
      "    },\n",
      "    {\n",
      "      \"id\": 8,\n",
      "      \"text\": \"trade\",\n",
      "      \"upos\": \"NOUN\",\n",
      "      \"xpos\": \"NN\",\n",
      "      \"feats\": \"Number=Sing\",\n",
      "      \"start_char\": 37,\n",
      "      \"end_char\": 42\n",
      "    },\n",
      "    {\n",
      "      \"id\": 9,\n",
      "      \"text\": \"to\",\n",
      "      \"upos\": \"PART\",\n",
      "      \"xpos\": \"TO\",\n",
      "      \"start_char\": 43,\n",
      "      \"end_char\": 45\n",
      "    },\n",
      "    {\n",
      "      \"id\": 10,\n",
      "      \"text\": \"protect\",\n",
      "      \"upos\": \"VERB\",\n",
      "      \"xpos\": \"VB\",\n",
      "      \"feats\": \"VerbForm=Inf\",\n",
      "      \"start_char\": 46,\n",
      "      \"end_char\": 53\n",
      "    },\n",
      "    {\n",
      "      \"id\": 11,\n",
      "      \"text\": \"their\",\n",
      "      \"upos\": \"PRON\",\n",
      "      \"xpos\": \"PRP$\",\n",
      "      \"feats\": \"Case=Gen|Number=Plur|Person=3|Poss=Yes|PronType=Prs\",\n",
      "      \"start_char\": 54,\n",
      "      \"end_char\": 59\n",
      "    },\n",
      "    {\n",
      "      \"id\": 12,\n",
      "      \"text\": \"economies\",\n",
      "      \"upos\": \"NOUN\",\n",
      "      \"xpos\": \"NNS\",\n",
      "      \"feats\": \"Number=Plur\",\n",
      "      \"start_char\": 60,\n",
      "      \"end_char\": 69\n",
      "    },\n",
      "    {\n",
      "      \"id\": 13,\n",
      "      \"text\": \"from\",\n",
      "      \"upos\": \"ADP\",\n",
      "      \"xpos\": \"IN\",\n",
      "      \"start_char\": 70,\n",
      "      \"end_char\": 74\n",
      "    },\n",
      "    {\n",
      "      \"id\": 14,\n",
      "      \"text\": \"foreign\",\n",
      "      \"upos\": \"ADJ\",\n",
      "      \"xpos\": \"JJ\",\n",
      "      \"feats\": \"Degree=Pos\",\n",
      "      \"start_char\": 75,\n",
      "      \"end_char\": 82\n",
      "    },\n",
      "    {\n",
      "      \"id\": 15,\n",
      "      \"text\": \"competition\",\n",
      "      \"upos\": \"NOUN\",\n",
      "      \"xpos\": \"NN\",\n",
      "      \"feats\": \"Number=Sing\",\n",
      "      \"start_char\": 83,\n",
      "      \"end_char\": 94,\n",
      "      \"misc\": \"SpaceAfter=No\"\n",
      "    },\n",
      "    {\n",
      "      \"id\": 16,\n",
      "      \"text\": \".\",\n",
      "      \"upos\": \"PUNCT\",\n",
      "      \"xpos\": \".\",\n",
      "      \"start_char\": 94,\n",
      "      \"end_char\": 95\n",
      "    }\n",
      "  ],\n",
      "  [\n",
      "    {\n",
      "      \"id\": 1,\n",
      "      \"text\": \"Protectionism\",\n",
      "      \"upos\": \"NOUN\",\n",
      "      \"xpos\": \"NN\",\n",
      "      \"feats\": \"Number=Sing\",\n",
      "      \"start_char\": 96,\n",
      "      \"end_char\": 109\n",
      "    },\n",
      "    {\n",
      "      \"id\": 2,\n",
      "      \"text\": \"is\",\n",
      "      \"upos\": \"AUX\",\n",
      "      \"xpos\": \"VBZ\",\n",
      "      \"feats\": \"Mood=Ind|Number=Sing|Person=3|Tense=Pres|VerbForm=Fin\",\n",
      "      \"start_char\": 110,\n",
      "      \"end_char\": 112\n",
      "    },\n",
      "    {\n",
      "      \"id\": 3,\n",
      "      \"text\": \"about\",\n",
      "      \"upos\": \"ADP\",\n",
      "      \"xpos\": \"IN\",\n",
      "      \"start_char\": 113,\n",
      "      \"end_char\": 118\n",
      "    },\n",
      "    {\n",
      "      \"id\": 4,\n",
      "      \"text\": \"policies\",\n",
      "      \"upos\": \"NOUN\",\n",
      "      \"xpos\": \"NNS\",\n",
      "      \"feats\": \"Number=Plur\",\n",
      "      \"start_char\": 119,\n",
      "      \"end_char\": 127\n",
      "    },\n",
      "    {\n",
      "      \"id\": 5,\n",
      "      \"text\": \"to\",\n",
      "      \"upos\": \"PART\",\n",
      "      \"xpos\": \"TO\",\n",
      "      \"start_char\": 128,\n",
      "      \"end_char\": 130\n",
      "    },\n",
      "    {\n",
      "      \"id\": 6,\n",
      "      \"text\": \"restrict\",\n",
      "      \"upos\": \"VERB\",\n",
      "      \"xpos\": \"VB\",\n",
      "      \"feats\": \"VerbForm=Inf\",\n",
      "      \"start_char\": 131,\n",
      "      \"end_char\": 139\n",
      "    },\n",
      "    {\n",
      "      \"id\": 7,\n",
      "      \"text\": \"international\",\n",
      "      \"upos\": \"ADJ\",\n",
      "      \"xpos\": \"JJ\",\n",
      "      \"feats\": \"Degree=Pos\",\n",
      "      \"start_char\": 140,\n",
      "      \"end_char\": 153\n",
      "    },\n",
      "    {\n",
      "      \"id\": 8,\n",
      "      \"text\": \"trade\",\n",
      "      \"upos\": \"NOUN\",\n",
      "      \"xpos\": \"NN\",\n",
      "      \"feats\": \"Number=Sing\",\n",
      "      \"start_char\": 154,\n",
      "      \"end_char\": 159,\n",
      "      \"misc\": \"SpaceAfter=No\"\n",
      "    },\n",
      "    {\n",
      "      \"id\": 9,\n",
      "      \"text\": \",\",\n",
      "      \"upos\": \"PUNCT\",\n",
      "      \"xpos\": \",\",\n",
      "      \"start_char\": 159,\n",
      "      \"end_char\": 160\n",
      "    },\n",
      "    {\n",
      "      \"id\": 10,\n",
      "      \"text\": \"preventing\",\n",
      "      \"upos\": \"VERB\",\n",
      "      \"xpos\": \"VBG\",\n",
      "      \"feats\": \"VerbForm=Ger\",\n",
      "      \"start_char\": 161,\n",
      "      \"end_char\": 171\n",
      "    },\n",
      "    {\n",
      "      \"id\": 11,\n",
      "      \"text\": \"the\",\n",
      "      \"upos\": \"DET\",\n",
      "      \"xpos\": \"DT\",\n",
      "      \"feats\": \"Definite=Def|PronType=Art\",\n",
      "      \"start_char\": 172,\n",
      "      \"end_char\": 175\n",
      "    },\n",
      "    {\n",
      "      \"id\": 12,\n",
      "      \"text\": \"free\",\n",
      "      \"upos\": \"ADJ\",\n",
      "      \"xpos\": \"JJ\",\n",
      "      \"feats\": \"Degree=Pos\",\n",
      "      \"start_char\": 176,\n",
      "      \"end_char\": 180\n",
      "    },\n",
      "    {\n",
      "      \"id\": 13,\n",
      "      \"text\": \"movement\",\n",
      "      \"upos\": \"NOUN\",\n",
      "      \"xpos\": \"NN\",\n",
      "      \"feats\": \"Number=Sing\",\n",
      "      \"start_char\": 181,\n",
      "      \"end_char\": 189\n",
      "    },\n",
      "    {\n",
      "      \"id\": 14,\n",
      "      \"text\": \"of\",\n",
      "      \"upos\": \"ADP\",\n",
      "      \"xpos\": \"IN\",\n",
      "      \"start_char\": 190,\n",
      "      \"end_char\": 192\n",
      "    },\n",
      "    {\n",
      "      \"id\": 15,\n",
      "      \"text\": \"goods\",\n",
      "      \"upos\": \"NOUN\",\n",
      "      \"xpos\": \"NNS\",\n",
      "      \"feats\": \"Number=Plur\",\n",
      "      \"start_char\": 193,\n",
      "      \"end_char\": 198\n",
      "    },\n",
      "    {\n",
      "      \"id\": 16,\n",
      "      \"text\": \"and\",\n",
      "      \"upos\": \"CCONJ\",\n",
      "      \"xpos\": \"CC\",\n",
      "      \"start_char\": 199,\n",
      "      \"end_char\": 202\n",
      "    },\n",
      "    {\n",
      "      \"id\": 17,\n",
      "      \"text\": \"services\",\n",
      "      \"upos\": \"NOUN\",\n",
      "      \"xpos\": \"NNS\",\n",
      "      \"feats\": \"Number=Plur\",\n",
      "      \"start_char\": 203,\n",
      "      \"end_char\": 211\n",
      "    },\n",
      "    {\n",
      "      \"id\": 18,\n",
      "      \"text\": \"between\",\n",
      "      \"upos\": \"ADP\",\n",
      "      \"xpos\": \"IN\",\n",
      "      \"start_char\": 212,\n",
      "      \"end_char\": 219\n",
      "    },\n",
      "    {\n",
      "      \"id\": 19,\n",
      "      \"text\": \"countries\",\n",
      "      \"upos\": \"NOUN\",\n",
      "      \"xpos\": \"NNS\",\n",
      "      \"feats\": \"Number=Plur\",\n",
      "      \"start_char\": 220,\n",
      "      \"end_char\": 229,\n",
      "      \"misc\": \"SpaceAfter=No\"\n",
      "    }\n",
      "  ]\n",
      "]\n",
      "V4 0.6806638680000106 What is Protectionism?\n",
      "Many countries do not engage in free trade to protect their economies from foreign competition. Protectionism is about policies to restrict international trade, preventing the free movement of goods and services between countries\n"
     ]
    }
   ],
   "source": [
    "text = \"\"\"Many countries do not engage in free trade to protect their economies from foreign competition. Protectionism is about policies to restrict international trade, preventing the free movement of goods and services between countries\"\"\"\n",
    "\n",
    "print(nlp4(text))\n",
    "\n",
    "start = time.process_time()\n",
    "v4 = flashcard4(text)\n",
    "V4 = time.process_time() - start\n",
    "print(\"V4\",V4,v4.output())\n",
    "\n",
    "# arr = text.split('.')\n",
    "# parsed = [a+\".\" for a in [n for n in arr if len(n)!=0]]\n",
    "# import time\n",
    "# for n in parsed:\n",
    "#     start = time.process_time()\n",
    "#     v4 = flashcard4(n)\n",
    "#     V4 = time.process_time() - start\n",
    "#     print(\"V4\",V4,v4.output())"
   ]
  },
  {
   "cell_type": "code",
   "execution_count": 144,
   "id": "96980efe-7c7d-4c18-8e21-ddd6f08196e6",
   "metadata": {},
   "outputs": [
    {
     "name": "stdout",
     "output_type": "stream",
     "text": [
      "'Word','UPOS','XPOS'\n",
      "If,SCONJ,IN\n",
      "there,PRON,EX\n",
      "is,VERB,VBZ\n",
      "a,DET,DT\n",
      "magnet,NOUN,NN\n",
      ",,PUNCT,,\n",
      "it,PRON,PRP\n",
      "will,AUX,MD\n",
      "have,VERB,VB\n",
      "a,DET,DT\n",
      "magnetic,ADJ,JJ\n",
      "field,NOUN,NN\n",
      ".,PUNCT,.\n",
      "\n"
     ]
    }
   ],
   "source": [
    "text = \"A historian cannot access past events directly, they can only access them indirectly, and any account of these events is thus an invention rather than a representation of the past.\"\n",
    "IStext = \"Force is the product of mass and acceleration.\"\n",
    "DOEStext = \"The car drives quickly across the highway.\"\n",
    "WHENtext = \"There is only induced emf when there is a changing magnetic flux.\"\n",
    "EQNtext = \"The equation for magnetic flux is $\\Phi = B_\\perp N A$.\"\n",
    "WHYtext = \"If there is a magnet, it will have a magnetic field.\"\n",
    "\n",
    "doc = nlp4(WHYtext)\n",
    "for sentence in doc.sentences:\n",
    "    print(\"'Word','UPOS','XPOS'\")\n",
    "    for word in sentence.words:\n",
    "        print(f\"{word.text},{word.upos},{word.xpos}\")\n",
    "    print()"
   ]
  },
  {
   "cell_type": "code",
   "execution_count": null,
   "id": "947f04c1-137c-4080-854d-25a41cacddb5",
   "metadata": {},
   "outputs": [],
   "source": [
    "#OBSERVATIONS MADE\n",
    "\n",
    "# NOUN + AUX,VBZ => WHAT IS/ARE\n",
    "# NOUN + VERB => WHAT DO/DOES/DID\n",
    "# NOUN + AUX,MD => WHAT CAN\n",
    "# NOUN + ADV,WRB + ___ => WHEN...\n",
    "# NOUN + SCONJ,IN + ___ => WHY...\n",
    "\n",
    "# PART upos is used to flip the sentece from +ve to -ve"
   ]
  },
  {
   "cell_type": "code",
   "execution_count": 170,
   "id": "5c7c2cfa-da94-48fb-9c93-41d549e2b278",
   "metadata": {},
   "outputs": [
    {
     "name": "stdout",
     "output_type": "stream",
     "text": [
      "('dog', 'NOUN', 'NN')\n",
      "('mammal', 'NOUN', 'NN')\n"
     ]
    }
   ],
   "source": [
    "def classifier(text):\n",
    "    long_linetext = re.sub(r'[\\n\\r]+',': ',text)\n",
    "    # print(long_linetext)\n",
    "    doc = nlp4(long_linetext)\n",
    "    out = {}\n",
    "    for sentence in doc.sentences:\n",
    "        for word in sentence.words:\n",
    "            out[word.id] = (word.text,word.upos,word.xpos)\n",
    "    for n in range(1,len(out)+1):\n",
    "        \n",
    "            \n",
    "\n",
    "classifier(\"The dog is a mammal.\")"
   ]
  },
  {
   "cell_type": "code",
   "execution_count": null,
   "id": "5a1d71d2-e587-413e-a46a-9028bad3c9b7",
   "metadata": {},
   "outputs": [],
   "source": []
  }
 ],
 "metadata": {
  "kernelspec": {
   "display_name": "Python 3 (ipykernel)",
   "language": "python",
   "name": "python3"
  },
  "language_info": {
   "codemirror_mode": {
    "name": "ipython",
    "version": 3
   },
   "file_extension": ".py",
   "mimetype": "text/x-python",
   "name": "python",
   "nbconvert_exporter": "python",
   "pygments_lexer": "ipython3",
   "version": "3.9.2"
  }
 },
 "nbformat": 4,
 "nbformat_minor": 5
}
