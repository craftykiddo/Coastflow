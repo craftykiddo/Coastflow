{
 "cells": [
  {
   "cell_type": "code",
   "execution_count": 1,
   "id": "7842b78d-867f-4cc2-b910-8faa1ee0359a",
   "metadata": {
    "scrolled": true
   },
   "outputs": [
    {
     "name": "stdout",
     "output_type": "stream",
     "text": [
      "Collecting stanza\n",
      "  Using cached stanza-1.8.1-py3-none-any.whl (970 kB)\n",
      "Requirement already satisfied: tqdm in /home/zuoyu916/.local/lib/python3.9/site-packages (from stanza) (4.66.2)\n",
      "Requirement already satisfied: torch>=1.3.0 in /home/zuoyu916/.local/lib/python3.9/site-packages (from stanza) (2.2.1)\n",
      "Requirement already satisfied: emoji in /home/zuoyu916/.local/lib/python3.9/site-packages (from stanza) (2.11.0)\n",
      "Requirement already satisfied: protobuf>=3.15.0 in /home/zuoyu916/.local/lib/python3.9/site-packages (from stanza) (5.26.1)\n",
      "Requirement already satisfied: requests in /home/zuoyu916/.local/lib/python3.9/site-packages (from stanza) (2.31.0)\n",
      "Requirement already satisfied: networkx in /home/zuoyu916/.local/lib/python3.9/site-packages (from stanza) (3.2.1)\n",
      "Requirement already satisfied: toml in /home/zuoyu916/.local/lib/python3.9/site-packages (from stanza) (0.10.2)\n",
      "Requirement already satisfied: numpy in /home/zuoyu916/.local/lib/python3.9/site-packages (from stanza) (1.26.3)\n",
      "Requirement already satisfied: nvidia-cuda-nvrtc-cu12==12.1.105 in /home/zuoyu916/.local/lib/python3.9/site-packages (from torch>=1.3.0->stanza) (12.1.105)\n",
      "Requirement already satisfied: nvidia-nvtx-cu12==12.1.105 in /home/zuoyu916/.local/lib/python3.9/site-packages (from torch>=1.3.0->stanza) (12.1.105)\n",
      "Requirement already satisfied: sympy in /home/zuoyu916/.local/lib/python3.9/site-packages (from torch>=1.3.0->stanza) (1.12)\n",
      "Requirement already satisfied: jinja2 in /home/zuoyu916/.local/lib/python3.9/site-packages (from torch>=1.3.0->stanza) (3.1.2)\n",
      "Requirement already satisfied: nvidia-cuda-cupti-cu12==12.1.105 in /home/zuoyu916/.local/lib/python3.9/site-packages (from torch>=1.3.0->stanza) (12.1.105)\n",
      "Requirement already satisfied: triton==2.2.0 in /home/zuoyu916/.local/lib/python3.9/site-packages (from torch>=1.3.0->stanza) (2.2.0)\n",
      "Requirement already satisfied: nvidia-cuda-runtime-cu12==12.1.105 in /home/zuoyu916/.local/lib/python3.9/site-packages (from torch>=1.3.0->stanza) (12.1.105)\n",
      "Requirement already satisfied: nvidia-cublas-cu12==12.1.3.1 in /home/zuoyu916/.local/lib/python3.9/site-packages (from torch>=1.3.0->stanza) (12.1.3.1)\n",
      "Requirement already satisfied: fsspec in /home/zuoyu916/.local/lib/python3.9/site-packages (from torch>=1.3.0->stanza) (2024.3.1)\n",
      "Requirement already satisfied: nvidia-cusolver-cu12==11.4.5.107 in /home/zuoyu916/.local/lib/python3.9/site-packages (from torch>=1.3.0->stanza) (11.4.5.107)\n",
      "Requirement already satisfied: nvidia-nccl-cu12==2.19.3 in /home/zuoyu916/.local/lib/python3.9/site-packages (from torch>=1.3.0->stanza) (2.19.3)\n",
      "Requirement already satisfied: nvidia-curand-cu12==10.3.2.106 in /home/zuoyu916/.local/lib/python3.9/site-packages (from torch>=1.3.0->stanza) (10.3.2.106)\n",
      "Requirement already satisfied: nvidia-cufft-cu12==11.0.2.54 in /home/zuoyu916/.local/lib/python3.9/site-packages (from torch>=1.3.0->stanza) (11.0.2.54)\n",
      "Requirement already satisfied: typing-extensions>=4.8.0 in /home/zuoyu916/.local/lib/python3.9/site-packages (from torch>=1.3.0->stanza) (4.9.0)\n",
      "Requirement already satisfied: nvidia-cusparse-cu12==12.1.0.106 in /home/zuoyu916/.local/lib/python3.9/site-packages (from torch>=1.3.0->stanza) (12.1.0.106)\n",
      "Requirement already satisfied: nvidia-cudnn-cu12==8.9.2.26 in /home/zuoyu916/.local/lib/python3.9/site-packages (from torch>=1.3.0->stanza) (8.9.2.26)\n",
      "Requirement already satisfied: filelock in /home/zuoyu916/.local/lib/python3.9/site-packages (from torch>=1.3.0->stanza) (3.13.3)\n",
      "Requirement already satisfied: nvidia-nvjitlink-cu12 in /home/zuoyu916/.local/lib/python3.9/site-packages (from nvidia-cusolver-cu12==11.4.5.107->torch>=1.3.0->stanza) (12.4.99)\n",
      "Requirement already satisfied: MarkupSafe>=2.0 in /home/zuoyu916/.local/lib/python3.9/site-packages (from jinja2->torch>=1.3.0->stanza) (2.1.3)\n",
      "Requirement already satisfied: idna<4,>=2.5 in /usr/lib/python3/dist-packages (from requests->stanza) (2.10)\n",
      "Requirement already satisfied: urllib3<3,>=1.21.1 in /usr/lib/python3/dist-packages (from requests->stanza) (1.26.5)\n",
      "Requirement already satisfied: certifi>=2017.4.17 in /home/zuoyu916/.local/lib/python3.9/site-packages (from requests->stanza) (2024.2.2)\n",
      "Requirement already satisfied: charset-normalizer<4,>=2 in /home/zuoyu916/.local/lib/python3.9/site-packages (from requests->stanza) (3.3.2)\n",
      "Requirement already satisfied: mpmath>=0.19 in /home/zuoyu916/.local/lib/python3.9/site-packages (from sympy->torch>=1.3.0->stanza) (1.3.0)\n",
      "Installing collected packages: stanza\n",
      "Successfully installed stanza-1.8.1\n"
     ]
    }
   ],
   "source": [
    "!pip install stanza"
   ]
  },
  {
   "cell_type": "code",
   "execution_count": 2,
   "id": "0e190c5e-51c0-42b8-b244-3b3aad2663cf",
   "metadata": {},
   "outputs": [
    {
     "data": {
      "application/vnd.jupyter.widget-view+json": {
       "model_id": "82d4b3f8ec184819930b31863fa53908",
       "version_major": 2,
       "version_minor": 0
      },
      "text/plain": [
       "Downloading https://raw.githubusercontent.com/stanfordnlp/stanza-resources/main/resources_1.8.0.json:   0%|   …"
      ]
     },
     "metadata": {},
     "output_type": "display_data"
    },
    {
     "name": "stderr",
     "output_type": "stream",
     "text": [
      "2024-04-09 12:55:34 INFO: Downloaded file to /home/zuoyu916/stanza_resources/resources.json\n",
      "2024-04-09 12:55:34 INFO: Downloading default packages for language: en (English) ...\n",
      "2024-04-09 12:55:43 INFO: File exists: /home/zuoyu916/stanza_resources/en/default.zip\n",
      "2024-04-09 12:55:54 INFO: Finished downloading models and saved to /home/zuoyu916/stanza_resources\n",
      "2024-04-09 12:55:54 INFO: Checking for updates to resources.json in case models have been updated.  Note: this behavior can be turned off with download_method=None or download_method=DownloadMethod.REUSE_RESOURCES\n"
     ]
    },
    {
     "data": {
      "application/vnd.jupyter.widget-view+json": {
       "model_id": "26864946f82c4ccd897a2a20972373d0",
       "version_major": 2,
       "version_minor": 0
      },
      "text/plain": [
       "Downloading https://raw.githubusercontent.com/stanfordnlp/stanza-resources/main/resources_1.8.0.json:   0%|   …"
      ]
     },
     "metadata": {},
     "output_type": "display_data"
    },
    {
     "name": "stderr",
     "output_type": "stream",
     "text": [
      "2024-04-09 12:55:54 INFO: Downloaded file to /home/zuoyu916/stanza_resources/resources.json\n",
      "2024-04-09 12:55:56 INFO: Loading these models for language: en (English):\n",
      "============================================\n",
      "| Processor    | Package                   |\n",
      "--------------------------------------------\n",
      "| tokenize     | combined                  |\n",
      "| mwt          | combined                  |\n",
      "| pos          | combined_charlm           |\n",
      "| lemma        | combined_nocharlm         |\n",
      "| constituency | ptb3-revised_charlm       |\n",
      "| depparse     | combined_charlm           |\n",
      "| sentiment    | sstplus_charlm            |\n",
      "| ner          | ontonotes-ww-multi_charlm |\n",
      "============================================\n",
      "\n",
      "2024-04-09 12:55:56 INFO: Using device: cpu\n",
      "2024-04-09 12:55:56 INFO: Loading: tokenize\n",
      "2024-04-09 12:55:58 INFO: Loading: mwt\n",
      "2024-04-09 12:55:58 INFO: Loading: pos\n",
      "2024-04-09 12:55:59 INFO: Loading: lemma\n",
      "2024-04-09 12:55:59 INFO: Loading: constituency\n",
      "2024-04-09 12:56:00 INFO: Loading: depparse\n",
      "2024-04-09 12:56:01 INFO: Loading: sentiment\n",
      "2024-04-09 12:56:02 INFO: Loading: ner\n",
      "2024-04-09 12:56:03 INFO: Done loading processors!\n"
     ]
    },
    {
     "name": "stdout",
     "output_type": "stream",
     "text": [
      "('Barack', 4, 'nsubj:pass')\n",
      "('Obama', 1, 'flat')\n",
      "('was', 4, 'aux:pass')\n",
      "('born', 0, 'root')\n",
      "('in', 6, 'case')\n",
      "('Hawaii', 4, 'obl')\n",
      "('.', 4, 'punct')\n"
     ]
    }
   ],
   "source": [
    "import stanza\n",
    "# stanza.download('en')       # This downloads the English models for the neural pipeline\n",
    "nlp = stanza.Pipeline('en') # This sets up a default neural pipeline in English\n",
    "doc = nlp(\"Barack Obama was born in Hawaii.  He was elected president in 2008.\")\n",
    "doc.sentences[0].print_dependencies()"
   ]
  },
  {
   "cell_type": "code",
   "execution_count": 3,
   "id": "1ea14f41-8b9f-495f-9fae-1aeb6036c3e9",
   "metadata": {},
   "outputs": [
    {
     "name": "stdout",
     "output_type": "stream",
     "text": [
      "\tThe, DET, det\n",
      "\tmagnetic, ADJ, amod\n",
      "flux, NOUN, compound\n",
      "density, NOUN, nsubj:pass\n",
      "\tis, AUX, aux:pass\n",
      "\tdefined, VERB, root\n",
      "\tas, ADP, case\n",
      "\tthe, DET, det\n",
      "force, NOUN, obl\n",
      "\tper, ADP, case\n",
      "unit, NOUN, compound\n",
      "length, NOUN, nmod\n",
      "\tper, ADP, case\n",
      "unit, NOUN, compound\n",
      "current, NOUN, nmod\n",
      "\tacting, VERB, advcl\n",
      "\ton, ADP, case\n",
      "\ta, DET, det\n",
      "\tstraight, ADJ, amod\n",
      "\tcurrent, ADJ, amod\n",
      "\t-, PUNCT, punct\n",
      "\tcarrying, VERB, amod\n",
      "conductor, NOUN, obl\n",
      "\tplaced, VERB, acl\n",
      "\tperpendicular, ADJ, xcomp\n",
      "\tto, ADP, case\n",
      "\ta, DET, det\n",
      "\tmagnetic, ADJ, amod\n",
      "field, NOUN, obl\n",
      "\t., PUNCT, punct\n"
     ]
    }
   ],
   "source": [
    "import stanza\n",
    "#assuming NLP pipeline for english has already been initialised\n",
    "\n",
    "def extract_words(input_text):\n",
    "\n",
    "    # Process the input text\n",
    "    doc = nlp(input_text)\n",
    "\n",
    "    # Extract nouns (NN, NNS, NNP, NNPS)\n",
    "    ##ADJ for adjectives\n",
    "    ##N for nouns\n",
    "    nouns = []\n",
    "    for sentence in doc.sentences:\n",
    "        for word in sentence.words:\n",
    "            if word.upos.startswith('N') or word.upos == \"PROPN\":\n",
    "                print(f\"{word.text}, {word.upos}, {word.deprel}\")\n",
    "            else:\n",
    "                print(f\"\\t{word.text}, {word.upos}, {word.deprel}\")\n",
    "\n",
    "# Example usage\n",
    "input_sentence = \"The magnetic flux density is defined as the force per unit length per unit current acting on a straight current-carrying conductor placed perpendicular to a magnetic field.\"\n",
    "nouns_list = extract_words(input_sentence)"
   ]
  },
  {
   "cell_type": "code",
   "execution_count": 4,
   "id": "b0679b52-65e5-41fb-85ad-4d04f909334c",
   "metadata": {},
   "outputs": [],
   "source": [
    "def extract_subj(input_text):\n",
    "    doc = nlp(input_text)\n",
    "    long = []\n",
    "    for sentence in doc.sentences:\n",
    "        out = \"\"\n",
    "        for word in sentence.words:\n",
    "            if word.upos == \"ADJ\":\n",
    "                out += f\"{word.text} \"\n",
    "            elif word.upos.startswith(\"N\"):\n",
    "                out += f\"{word.text} \"\n",
    "            if word.upos == \"AUX\":\n",
    "                long.append(out)\n",
    "                break\n",
    "    if long:\n",
    "        return long"
   ]
  },
  {
   "cell_type": "code",
   "execution_count": 5,
   "id": "0c837aba-ef0d-4800-9569-03ffa76f3d3e",
   "metadata": {},
   "outputs": [
    {
     "name": "stdout",
     "output_type": "stream",
     "text": [
      "['naturalistic fallacy ']\n"
     ]
    }
   ],
   "source": [
    "input_sentence = \"\"\"\n",
    "The naturalistic fallacy: Just because this is the way things CURRENTLY ARE does not mean this is the way things OUGHT TO BE.\n",
    "\"\"\"\n",
    "print(extract_subj(input_sentence))"
   ]
  },
  {
   "cell_type": "code",
   "execution_count": 30,
   "id": "b386d64c-6be5-444c-92d8-3a49af5b3dd7",
   "metadata": {
    "scrolled": true
   },
   "outputs": [],
   "source": [
    "import re\n",
    "#Assuming stanza is imported\n",
    "def extract_subj_v2(input_text):\n",
    "    #Assuming stanza pipeline for english has already been initialised\n",
    "    long_linetext = re.sub(r'[\\n\\r]+',': ',input_text)\n",
    "    # print(long_linetext)\n",
    "    doc = nlp(long_linetext)\n",
    "    long = {'subj':''}\n",
    "    for sentence in doc.sentences:\n",
    "        out = \"\"\n",
    "        for word in sentence.words:\n",
    "            if word.upos == \"ADJ\":\n",
    "                out += f\"{word.text} \"\n",
    "            elif word.upos == \"ADP\":\n",
    "                out += f\"{word.text} \"\n",
    "            elif word.upos.startswith(\"N\") or word.upos == \"PROPN\":\n",
    "                out += f\"{word.text} \"\n",
    "            elif word.upos == \"AUX\" or word.text==\":\":\n",
    "                if out != '': \n",
    "                    long['subj'] = out\n",
    "                    long[word.upos] = word.text\n",
    "                break\n",
    "\n",
    "        # if out != '': long.append({\"subj\":out,word.upos:word.text})\n",
    "    if long:\n",
    "        return long"
   ]
  },
  {
   "cell_type": "code",
   "execution_count": 31,
   "id": "63f85002-55df-495f-8b52-544b05a63339",
   "metadata": {},
   "outputs": [
    {
     "name": "stdout",
     "output_type": "stream",
     "text": [
      "{'subj': 'dog ', 'AUX': 'is'}\n",
      "{'subj': 'magnetic flux density ', 'AUX': 'is'}\n",
      "{'subj': 'Intuitionism ', 'PUNCT': ':'}\n",
      "{'subj': ''}\n",
      "{'subj': 'Divine Command Theory DCT ', 'PUNCT': ':'}\n",
      "{'subj': 'Momentum ', 'AUX': 'is'}\n",
      "Momentum, NOUN, nsubj\n",
      "\tis, AUX, cop\n",
      "\tthe, DET, det\n",
      "product, NOUN, root\n",
      "\tof, ADP, case\n",
      "force, NOUN, nmod\n",
      "\tand, CCONJ, cc\n",
      "velocity, NOUN, conj\n",
      "\t., PUNCT, punct\n",
      "\tIt, PRON, nsubj\n",
      "\tis, AUX, cop\n",
      "\tthe, DET, det\n",
      "integral, NOUN, root\n",
      "\tof, ADP, case\n",
      "Force, NOUN, nmod\n",
      "\tw.r.t., SYM, case\n",
      "time, NOUN, appos\n",
      "\t., PUNCT, punct\n",
      "{'subj': 'Momentum ', 'AUX': 'is'}\n",
      "\tThere, PRON, expl\n",
      "\tis, VERB, root\n",
      "\ta, DET, det\n",
      "\thigh, ADJ, amod\n",
      "number, NOUN, nsubj\n",
      "\tof, ADP, case\n",
      "commuters, NOUN, nmod\n",
      "\tin, ADP, case\n",
      "\tthe, DET, det\n",
      "evening, NOUN, obl\n",
      "\t,, PUNCT, punct\n",
      "\twhich, PRON, nsubj\n",
      "\tis, AUX, cop\n",
      "\tthe, DET, det\n",
      "cause, NOUN, acl:relcl\n",
      "\tof, ADP, case\n",
      "\tthe, DET, det\n",
      "jam, NOUN, nmod\n",
      "\t., PUNCT, punct\n",
      "{'subj': 'high number of commuters in evening ', 'AUX': 'is'}\n",
      "\tThe, DET, det\n",
      "equation, NOUN, nsubj\n",
      "\tfor, ADP, case\n",
      "Force, PROPN, nmod\n",
      "\tonly, ADV, advmod\n",
      "\tdue, ADP, case\n",
      "\tto, ADP, fixed\n",
      "acceleration, NOUN, nmod\n",
      "\tis, AUX, cop\n",
      "\t$, SYM, root\n",
      "F=ma, PROPN, flat\n",
      "\t$, SYM, appos\n",
      "{'subj': 'equation for Force due to acceleration ', 'AUX': 'is'}\n"
     ]
    }
   ],
   "source": [
    "input_sentence = \"A dog is a mammal.\"\n",
    "print(extract_subj_v2(input_sentence))\n",
    "\n",
    "input_sentence = \"\"\"The magnetic flux density is defined as the force per unit length per unit current acting\n",
    "on a straight current-carrying conductor placed perpendicular to a magnetic field.\"\"\"\n",
    "# extract_words(input_sentence)\n",
    "print(extract_subj_v2(input_sentence))\n",
    "\n",
    "input_sentence = \"\"\"Intuitionism: \n",
    "It is the theory that moral truths in metaethics are known directly by intuition.\"\"\"\n",
    "# extract_words(input_sentence)\n",
    "print(extract_subj_v2(input_sentence))\n",
    "\n",
    "input_sentence = \"\"\"\n",
    "The naturalistic fallacy: Just because this is the way things CURRENTLY ARE does not mean this is the way things OUGHT TO BE.\n",
    "\"\"\"\n",
    "print(extract_subj_v2(input_sentence))\n",
    "\n",
    "input_sentence = \"\"\"Divine Command Theory (DCT)\n",
    "It holds that all moral beliefs come from God.\"\"\"\n",
    "# extract_words(input_sentence)\n",
    "print(extract_subj_v2(input_sentence))\n",
    "\n",
    "input_sentence = \"\"\"Force is the product of mass and acceleration. Momentum is the product of force and velocity.\"\"\"\n",
    "# extract_words(input_sentence) ##Able to distinguish the key points from 2 dff sentences\n",
    "print(extract_subj_v2(input_sentence))\n",
    "\n",
    "input_sentence = \"\"\"Momentum is the product of force and velocity. It is the integral of Force w.r.t. time.\"\"\"\n",
    "extract_words(input_sentence)\n",
    "print(extract_subj_v2(input_sentence))\n",
    "\n",
    "input_sentence = \"\"\"There is a high number of commuters in the evening, which is the cause of the jam.\"\"\"\n",
    "extract_words(input_sentence) ##Code understands that 'is' is not used for deginition in this case\n",
    "print(extract_subj_v2(input_sentence))\n",
    "\n",
    "input_sentence = \"\"\"The equation for Force only due to acceleration is $F=ma$\"\"\"\n",
    "extract_words(input_sentence)\n",
    "print(extract_subj_v2(input_sentence))"
   ]
  },
  {
   "cell_type": "code",
   "execution_count": 39,
   "id": "3dd2f9c7-40ef-421f-ac8c-6c19eb5e43ef",
   "metadata": {},
   "outputs": [
    {
     "name": "stdout",
     "output_type": "stream",
     "text": [
      "What is Momentum?\n",
      "Momentum is the product of force and velocity. It is the integral of Force w.r.t. time.\n"
     ]
    }
   ],
   "source": [
    "class flashcard():\n",
    "    def __init__(self, text):\n",
    "        self._qns = self.extract(text)\n",
    "        self._ans = text\n",
    "    def output(self):\n",
    "        return f\"{self._qns}\\n{self._ans}\"\n",
    "    def extract(self,text):\n",
    "        d = extract_subj_v2(text)\n",
    "        try:\n",
    "            aux = d[\"AUX\"]\n",
    "        except KeyError:\n",
    "            aux = \"is\"\n",
    "        subj = d[\"subj\"]\n",
    "        return f\"What {aux} {subj.rstrip(' ')}?\"\n",
    "\n",
    "dog = flashcard(\"Momentum is the product of force and velocity. It is the integral of Force w.r.t. time.\")\n",
    "print(dog.output())"
   ]
  },
  {
   "cell_type": "code",
   "execution_count": null,
   "id": "9e91fac9-4b1d-4f42-8eb0-f3b1721e3c53",
   "metadata": {},
   "outputs": [],
   "source": []
  }
 ],
 "metadata": {
  "kernelspec": {
   "display_name": "Python 3 (ipykernel)",
   "language": "python",
   "name": "python3"
  },
  "language_info": {
   "codemirror_mode": {
    "name": "ipython",
    "version": 3
   },
   "file_extension": ".py",
   "mimetype": "text/x-python",
   "name": "python",
   "nbconvert_exporter": "python",
   "pygments_lexer": "ipython3",
   "version": "3.9.2"
  }
 },
 "nbformat": 4,
 "nbformat_minor": 5
}
